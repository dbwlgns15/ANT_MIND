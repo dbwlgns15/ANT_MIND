{
 "cells": [
  {
   "cell_type": "code",
   "execution_count": 7,
   "id": "830233c9",
   "metadata": {},
   "outputs": [],
   "source": [
    "# 모델 저장\n",
    "from transformers import pipeline\n",
    "\n",
    "classifier = pipeline(\"sentiment-analysis\", \n",
    "    model=\"sangrimlee/bert-base-multilingual-cased-nsmc\")\n",
    "\n",
    "classifier.save_pretrained('./src/bert')"
   ]
  },
  {
   "cell_type": "code",
   "execution_count": 8,
   "id": "d8866a82",
   "metadata": {
    "scrolled": true
   },
   "outputs": [
    {
     "name": "stderr",
     "output_type": "stream",
     "text": [
      "Some weights of the PyTorch model were not used when initializing the TF 2.0 model TFBertForSequenceClassification: ['bert.embeddings.position_ids']\n",
      "- This IS expected if you are initializing TFBertForSequenceClassification from a PyTorch model trained on another task or with another architecture (e.g. initializing a TFBertForSequenceClassification model from a BertForPreTraining model).\n",
      "- This IS NOT expected if you are initializing TFBertForSequenceClassification from a PyTorch model that you expect to be exactly identical (e.g. initializing a TFBertForSequenceClassification model from a BertForSequenceClassification model).\n",
      "All the weights of TFBertForSequenceClassification were initialized from the PyTorch model.\n",
      "If your task is similar to the task the model of the checkpoint was trained on, you can already use TFBertForSequenceClassification for predictions without further training.\n"
     ]
    }
   ],
   "source": [
    "# 모델 불러오기\n",
    "from transformers import TextClassificationPipeline\n",
    "from transformers import BertTokenizerFast\n",
    "from transformers import TFBertForSequenceClassification\n",
    "\n",
    "loaded_tokenizer = BertTokenizerFast.from_pretrained('./src/bert',from_pt=True)\n",
    "loaded_model = TFBertForSequenceClassification.from_pretrained('./src/bert',from_pt=True)\n",
    "\n",
    "classifier = TextClassificationPipeline(\n",
    "    tokenizer=loaded_tokenizer, \n",
    "    model=loaded_model, \n",
    "    framework='tf',\n",
    "    return_all_scores=True)"
   ]
  },
  {
   "cell_type": "code",
   "execution_count": null,
   "id": "868a75bd",
   "metadata": {},
   "outputs": [],
   "source": [
    "# 댓글 분류기 실행 예시"
   ]
  },
  {
   "cell_type": "code",
   "execution_count": 18,
   "id": "2310bf9a",
   "metadata": {},
   "outputs": [
    {
     "data": {
      "text/plain": [
       "[[{'label': 'negative', 'score': 0.9196027517318726},\n",
       "  {'label': 'positive', 'score': 0.08039722591638565}]]"
      ]
     },
     "execution_count": 18,
     "metadata": {},
     "output_type": "execute_result"
    }
   ],
   "source": [
    "classifier('이런 개미지옥탕을 만드신')"
   ]
  },
  {
   "cell_type": "code",
   "execution_count": 11,
   "id": "47344221",
   "metadata": {},
   "outputs": [
    {
     "data": {
      "text/plain": [
       "[[{'label': 'negative', 'score': 0.9822595119476318},\n",
       "  {'label': 'positive', 'score': 0.017740493640303612}]]"
      ]
     },
     "execution_count": 11,
     "metadata": {},
     "output_type": "execute_result"
    }
   ],
   "source": [
    "classifier('안티 살발하다')"
   ]
  },
  {
   "cell_type": "code",
   "execution_count": 17,
   "id": "001b4d86",
   "metadata": {},
   "outputs": [
    {
     "data": {
      "text/plain": [
       "[[{'label': 'negative', 'score': 0.12080457806587219},\n",
       "  {'label': 'positive', 'score': 0.8791953921318054}]]"
      ]
     },
     "execution_count": 17,
     "metadata": {},
     "output_type": "execute_result"
    }
   ],
   "source": [
    "classifier('믿고 있었다구!')"
   ]
  },
  {
   "cell_type": "code",
   "execution_count": 14,
   "id": "fc8f1de7",
   "metadata": {},
   "outputs": [
    {
     "data": {
      "text/plain": [
       "[[{'label': 'negative', 'score': 0.03414863720536232},\n",
       "  {'label': 'positive', 'score': 0.9658513069152832}]]"
      ]
     },
     "execution_count": 14,
     "metadata": {},
     "output_type": "execute_result"
    }
   ],
   "source": [
    "classifier('가즈아!')"
   ]
  }
 ],
 "metadata": {
  "kernelspec": {
   "display_name": "Python 3 (ipykernel)",
   "language": "python",
   "name": "python3"
  },
  "language_info": {
   "codemirror_mode": {
    "name": "ipython",
    "version": 3
   },
   "file_extension": ".py",
   "mimetype": "text/x-python",
   "name": "python",
   "nbconvert_exporter": "python",
   "pygments_lexer": "ipython3",
   "version": "3.9.7"
  }
 },
 "nbformat": 4,
 "nbformat_minor": 5
}
